{
  "cells": [
    {
      "cell_type": "markdown",
      "metadata": {
        "colab_type": "text",
        "id": "view-in-github"
      },
      "source": [
        "<a href=\"https://colab.research.google.com/github/avs20/SioLabsPython0/blob/main/Amazon_Fine_Food_Reviews_LR.ipynb\" target=\"_parent\"><img src=\"https://colab.research.google.com/assets/colab-badge.svg\" alt=\"Open In Colab\"/></a>"
      ]
    },
    {
      "cell_type": "markdown",
      "metadata": {
        "id": "ch_KUr_eFYy9"
      },
      "source": [
        "https://www.kaggle.com/snap/amazon-fine-food-reviews\n",
        "\n",
        "[EDA](https://nycdatascience.com/blog/student-works/amazon-fine-foods-visualization/)"
      ]
    },
    {
      "cell_type": "code",
      "execution_count": 1,
      "metadata": {
        "id": "5D01f92IB0ce"
      },
      "outputs": [],
      "source": [
        "import pandas as pd\n",
        "import numpy as np \n",
        "import matplotlib.pyplot as plt \n",
        "%matplotlib inline\n",
        "import sklearn"
      ]
    },
    {
      "cell_type": "code",
      "execution_count": 2,
      "metadata": {
        "colab": {
          "base_uri": "https://localhost:8080/",
          "height": 310
        },
        "id": "NvtYGGpb5-Li",
        "outputId": "805f9c24-61a5-4998-bdab-6c66b83b0b5c"
      },
      "outputs": [
        {
          "data": {
            "text/html": [
              "<div>\n",
              "<style scoped>\n",
              "    .dataframe tbody tr th:only-of-type {\n",
              "        vertical-align: middle;\n",
              "    }\n",
              "\n",
              "    .dataframe tbody tr th {\n",
              "        vertical-align: top;\n",
              "    }\n",
              "\n",
              "    .dataframe thead th {\n",
              "        text-align: right;\n",
              "    }\n",
              "</style>\n",
              "<table border=\"1\" class=\"dataframe\">\n",
              "  <thead>\n",
              "    <tr style=\"text-align: right;\">\n",
              "      <th></th>\n",
              "      <th>Id</th>\n",
              "      <th>ProductId</th>\n",
              "      <th>UserId</th>\n",
              "      <th>ProfileName</th>\n",
              "      <th>HelpfulnessNumerator</th>\n",
              "      <th>HelpfulnessDenominator</th>\n",
              "      <th>Score</th>\n",
              "      <th>Time</th>\n",
              "      <th>Summary</th>\n",
              "      <th>Text</th>\n",
              "    </tr>\n",
              "  </thead>\n",
              "  <tbody>\n",
              "    <tr>\n",
              "      <th>0</th>\n",
              "      <td>1</td>\n",
              "      <td>B001E4KFG0</td>\n",
              "      <td>A3SGXH7AUHU8GW</td>\n",
              "      <td>delmartian</td>\n",
              "      <td>1</td>\n",
              "      <td>1</td>\n",
              "      <td>5</td>\n",
              "      <td>1303862400</td>\n",
              "      <td>Good Quality Dog Food</td>\n",
              "      <td>I have bought several of the Vitality canned d...</td>\n",
              "    </tr>\n",
              "    <tr>\n",
              "      <th>1</th>\n",
              "      <td>2</td>\n",
              "      <td>B00813GRG4</td>\n",
              "      <td>A1D87F6ZCVE5NK</td>\n",
              "      <td>dll pa</td>\n",
              "      <td>0</td>\n",
              "      <td>0</td>\n",
              "      <td>1</td>\n",
              "      <td>1346976000</td>\n",
              "      <td>Not as Advertised</td>\n",
              "      <td>Product arrived labeled as Jumbo Salted Peanut...</td>\n",
              "    </tr>\n",
              "    <tr>\n",
              "      <th>2</th>\n",
              "      <td>3</td>\n",
              "      <td>B000LQOCH0</td>\n",
              "      <td>ABXLMWJIXXAIN</td>\n",
              "      <td>Natalia Corres \"Natalia Corres\"</td>\n",
              "      <td>1</td>\n",
              "      <td>1</td>\n",
              "      <td>4</td>\n",
              "      <td>1219017600</td>\n",
              "      <td>\"Delight\" says it all</td>\n",
              "      <td>This is a confection that has been around a fe...</td>\n",
              "    </tr>\n",
              "    <tr>\n",
              "      <th>3</th>\n",
              "      <td>4</td>\n",
              "      <td>B000UA0QIQ</td>\n",
              "      <td>A395BORC6FGVXV</td>\n",
              "      <td>Karl</td>\n",
              "      <td>3</td>\n",
              "      <td>3</td>\n",
              "      <td>2</td>\n",
              "      <td>1307923200</td>\n",
              "      <td>Cough Medicine</td>\n",
              "      <td>If you are looking for the secret ingredient i...</td>\n",
              "    </tr>\n",
              "    <tr>\n",
              "      <th>4</th>\n",
              "      <td>5</td>\n",
              "      <td>B006K2ZZ7K</td>\n",
              "      <td>A1UQRSCLF8GW1T</td>\n",
              "      <td>Michael D. Bigham \"M. Wassir\"</td>\n",
              "      <td>0</td>\n",
              "      <td>0</td>\n",
              "      <td>5</td>\n",
              "      <td>1350777600</td>\n",
              "      <td>Great taffy</td>\n",
              "      <td>Great taffy at a great price.  There was a wid...</td>\n",
              "    </tr>\n",
              "  </tbody>\n",
              "</table>\n",
              "</div>"
            ],
            "text/plain": [
              "   Id   ProductId          UserId                      ProfileName  \\\n",
              "0   1  B001E4KFG0  A3SGXH7AUHU8GW                       delmartian   \n",
              "1   2  B00813GRG4  A1D87F6ZCVE5NK                           dll pa   \n",
              "2   3  B000LQOCH0   ABXLMWJIXXAIN  Natalia Corres \"Natalia Corres\"   \n",
              "3   4  B000UA0QIQ  A395BORC6FGVXV                             Karl   \n",
              "4   5  B006K2ZZ7K  A1UQRSCLF8GW1T    Michael D. Bigham \"M. Wassir\"   \n",
              "\n",
              "   HelpfulnessNumerator  HelpfulnessDenominator  Score        Time  \\\n",
              "0                     1                       1      5  1303862400   \n",
              "1                     0                       0      1  1346976000   \n",
              "2                     1                       1      4  1219017600   \n",
              "3                     3                       3      2  1307923200   \n",
              "4                     0                       0      5  1350777600   \n",
              "\n",
              "                 Summary                                               Text  \n",
              "0  Good Quality Dog Food  I have bought several of the Vitality canned d...  \n",
              "1      Not as Advertised  Product arrived labeled as Jumbo Salted Peanut...  \n",
              "2  \"Delight\" says it all  This is a confection that has been around a fe...  \n",
              "3         Cough Medicine  If you are looking for the secret ingredient i...  \n",
              "4            Great taffy  Great taffy at a great price.  There was a wid...  "
            ]
          },
          "execution_count": 2,
          "metadata": {},
          "output_type": "execute_result"
        }
      ],
      "source": [
        "data = pd.read_csv('Reviews.csv')\n",
        "data.head()"
      ]
    },
    {
      "cell_type": "code",
      "execution_count": 3,
      "metadata": {
        "colab": {
          "base_uri": "https://localhost:8080/"
        },
        "id": "LDlibGTWKX-b",
        "outputId": "f86eeade-c16d-4e45-d1c8-99bfb9a6145f"
      },
      "outputs": [
        {
          "data": {
            "text/plain": [
              "(568454, 10)"
            ]
          },
          "execution_count": 3,
          "metadata": {},
          "output_type": "execute_result"
        }
      ],
      "source": [
        "data.shape"
      ]
    },
    {
      "cell_type": "code",
      "execution_count": 4,
      "metadata": {
        "colab": {
          "base_uri": "https://localhost:8080/"
        },
        "id": "nvyuAoHR6GQh",
        "outputId": "cb1572c8-f140-4e82-d70d-3241177df092"
      },
      "outputs": [
        {
          "name": "stdout",
          "output_type": "stream",
          "text": [
            "(568454,)\n",
            "   Id   ProductId          UserId                      ProfileName  \\\n",
            "0   1  B001E4KFG0  A3SGXH7AUHU8GW                       delmartian   \n",
            "1   2  B00813GRG4  A1D87F6ZCVE5NK                           dll pa   \n",
            "2   3  B000LQOCH0   ABXLMWJIXXAIN  Natalia Corres \"Natalia Corres\"   \n",
            "\n",
            "   HelpfulnessNumerator  HelpfulnessDenominator  Score        Time  \\\n",
            "0                     1                       1      5  1303862400   \n",
            "1                     0                       0      1  1346976000   \n",
            "2                     1                       1      4  1219017600   \n",
            "\n",
            "                 Summary                                               Text  \\\n",
            "0  Good Quality Dog Food  I have bought several of the Vitality canned d...   \n",
            "1      Not as Advertised  Product arrived labeled as Jumbo Salted Peanut...   \n",
            "2  \"Delight\" says it all  This is a confection that has been around a fe...   \n",
            "\n",
            "   Sentiment  \n",
            "0          1  \n",
            "1          0  \n",
            "2          1  \n"
          ]
        }
      ],
      "source": [
        "def partition(x):\n",
        "  if x < 3 :\n",
        "    return 0 \n",
        "  return 1\n",
        "\n",
        "\n",
        "data['Sentiment'] = data['Score'].apply(partition)\n",
        "print(data['Sentiment'].shape)\n",
        "print(data.head(3))"
      ]
    },
    {
      "cell_type": "code",
      "execution_count": 5,
      "metadata": {
        "colab": {
          "base_uri": "https://localhost:8080/",
          "height": 1000
        },
        "id": "zbfK_VgW6jOA",
        "outputId": "c5ab6740-38a7-4422-8af9-291f446007fc"
      },
      "outputs": [
        {
          "data": {
            "text/html": [
              "<div>\n",
              "<style scoped>\n",
              "    .dataframe tbody tr th:only-of-type {\n",
              "        vertical-align: middle;\n",
              "    }\n",
              "\n",
              "    .dataframe tbody tr th {\n",
              "        vertical-align: top;\n",
              "    }\n",
              "\n",
              "    .dataframe thead th {\n",
              "        text-align: right;\n",
              "    }\n",
              "</style>\n",
              "<table border=\"1\" class=\"dataframe\">\n",
              "  <thead>\n",
              "    <tr style=\"text-align: right;\">\n",
              "      <th></th>\n",
              "      <th>Id</th>\n",
              "      <th>ProductId</th>\n",
              "      <th>UserId</th>\n",
              "      <th>ProfileName</th>\n",
              "      <th>HelpfulnessNumerator</th>\n",
              "      <th>HelpfulnessDenominator</th>\n",
              "      <th>Score</th>\n",
              "      <th>Time</th>\n",
              "      <th>Summary</th>\n",
              "      <th>Text</th>\n",
              "      <th>Sentiment</th>\n",
              "    </tr>\n",
              "  </thead>\n",
              "  <tbody>\n",
              "    <tr>\n",
              "      <th>466</th>\n",
              "      <td>467</td>\n",
              "      <td>B000G6RYNE</td>\n",
              "      <td>A3PJZ8TU8FDQ1K</td>\n",
              "      <td>Jared Castle</td>\n",
              "      <td>0</td>\n",
              "      <td>0</td>\n",
              "      <td>5</td>\n",
              "      <td>1231718400</td>\n",
              "      <td>One bite and you'll become a \"chippoisseur\"</td>\n",
              "      <td>I'm addicted to salty and tangy flavors, so wh...</td>\n",
              "      <td>1</td>\n",
              "    </tr>\n",
              "    <tr>\n",
              "      <th>574</th>\n",
              "      <td>575</td>\n",
              "      <td>B000G6RYNE</td>\n",
              "      <td>A3PJZ8TU8FDQ1K</td>\n",
              "      <td>Jared Castle</td>\n",
              "      <td>2</td>\n",
              "      <td>2</td>\n",
              "      <td>5</td>\n",
              "      <td>1231718400</td>\n",
              "      <td>One bite and you'll become a \"chippoisseur\"</td>\n",
              "      <td>I'm addicted to salty and tangy flavors, so wh...</td>\n",
              "      <td>1</td>\n",
              "    </tr>\n",
              "    <tr>\n",
              "      <th>1084</th>\n",
              "      <td>1085</td>\n",
              "      <td>B0030N5K1I</td>\n",
              "      <td>A19U4T4I7UZGNM</td>\n",
              "      <td>3 dogs</td>\n",
              "      <td>3</td>\n",
              "      <td>3</td>\n",
              "      <td>1</td>\n",
              "      <td>1330992000</td>\n",
              "      <td>awful</td>\n",
              "      <td>This is not jerky, this is processed, hard lik...</td>\n",
              "      <td>0</td>\n",
              "    </tr>\n",
              "    <tr>\n",
              "      <th>1087</th>\n",
              "      <td>1088</td>\n",
              "      <td>B0030N5K1I</td>\n",
              "      <td>A19U4T4I7UZGNM</td>\n",
              "      <td>3 dogs</td>\n",
              "      <td>1</td>\n",
              "      <td>1</td>\n",
              "      <td>1</td>\n",
              "      <td>1330992000</td>\n",
              "      <td>awful</td>\n",
              "      <td>This is not jerky, this is processed, hard lik...</td>\n",
              "      <td>0</td>\n",
              "    </tr>\n",
              "    <tr>\n",
              "      <th>2630</th>\n",
              "      <td>2631</td>\n",
              "      <td>B0016FY6H6</td>\n",
              "      <td>A2NLZ3M0OJV9NX</td>\n",
              "      <td>Mark Bodzin</td>\n",
              "      <td>1</td>\n",
              "      <td>1</td>\n",
              "      <td>2</td>\n",
              "      <td>1313107200</td>\n",
              "      <td>Way too weak for my tastes</td>\n",
              "      <td>What can i say, I love iced tea. I drink a lot...</td>\n",
              "      <td>0</td>\n",
              "    </tr>\n",
              "    <tr>\n",
              "      <th>...</th>\n",
              "      <td>...</td>\n",
              "      <td>...</td>\n",
              "      <td>...</td>\n",
              "      <td>...</td>\n",
              "      <td>...</td>\n",
              "      <td>...</td>\n",
              "      <td>...</td>\n",
              "      <td>...</td>\n",
              "      <td>...</td>\n",
              "      <td>...</td>\n",
              "      <td>...</td>\n",
              "    </tr>\n",
              "    <tr>\n",
              "      <th>568007</th>\n",
              "      <td>568008</td>\n",
              "      <td>B0030VJ8YU</td>\n",
              "      <td>A20P8VC55KPPCT</td>\n",
              "      <td>FL Mom</td>\n",
              "      <td>3</td>\n",
              "      <td>3</td>\n",
              "      <td>5</td>\n",
              "      <td>1274486400</td>\n",
              "      <td>These pouches are great!</td>\n",
              "      <td>These pouches are so easy and convenient. They...</td>\n",
              "      <td>1</td>\n",
              "    </tr>\n",
              "    <tr>\n",
              "      <th>568008</th>\n",
              "      <td>568009</td>\n",
              "      <td>B0030VJ8YU</td>\n",
              "      <td>ATIHDHZYNQ0EI</td>\n",
              "      <td>Kristen O'donnell \"twinsmom\"</td>\n",
              "      <td>3</td>\n",
              "      <td>3</td>\n",
              "      <td>5</td>\n",
              "      <td>1270425600</td>\n",
              "      <td>Organic and Tasty!</td>\n",
              "      <td>I have 12 month olds and no time to write a gr...</td>\n",
              "      <td>1</td>\n",
              "    </tr>\n",
              "    <tr>\n",
              "      <th>568017</th>\n",
              "      <td>568018</td>\n",
              "      <td>B0030VJ8YU</td>\n",
              "      <td>A20P8VC55KPPCT</td>\n",
              "      <td>FL Mom</td>\n",
              "      <td>2</td>\n",
              "      <td>2</td>\n",
              "      <td>5</td>\n",
              "      <td>1274486400</td>\n",
              "      <td>These pouches are great!</td>\n",
              "      <td>These pouches are so easy and convenient. They...</td>\n",
              "      <td>1</td>\n",
              "    </tr>\n",
              "    <tr>\n",
              "      <th>568034</th>\n",
              "      <td>568035</td>\n",
              "      <td>B0030VJ8YU</td>\n",
              "      <td>A1S6HK2R1KUC5E</td>\n",
              "      <td>data1701</td>\n",
              "      <td>1</td>\n",
              "      <td>1</td>\n",
              "      <td>5</td>\n",
              "      <td>1318291200</td>\n",
              "      <td>Triplets love this!</td>\n",
              "      <td>This is very smooth and easy to feed to my tri...</td>\n",
              "      <td>1</td>\n",
              "    </tr>\n",
              "    <tr>\n",
              "      <th>568053</th>\n",
              "      <td>568054</td>\n",
              "      <td>B0030VJ8YU</td>\n",
              "      <td>A20P8VC55KPPCT</td>\n",
              "      <td>FL Mom</td>\n",
              "      <td>1</td>\n",
              "      <td>1</td>\n",
              "      <td>5</td>\n",
              "      <td>1274486400</td>\n",
              "      <td>These pouches are great!</td>\n",
              "      <td>These pouches are so easy and convenient.  The...</td>\n",
              "      <td>1</td>\n",
              "    </tr>\n",
              "  </tbody>\n",
              "</table>\n",
              "<p>2230 rows × 11 columns</p>\n",
              "</div>"
            ],
            "text/plain": [
              "            Id   ProductId          UserId                   ProfileName  \\\n",
              "466        467  B000G6RYNE  A3PJZ8TU8FDQ1K                  Jared Castle   \n",
              "574        575  B000G6RYNE  A3PJZ8TU8FDQ1K                  Jared Castle   \n",
              "1084      1085  B0030N5K1I  A19U4T4I7UZGNM                        3 dogs   \n",
              "1087      1088  B0030N5K1I  A19U4T4I7UZGNM                        3 dogs   \n",
              "2630      2631  B0016FY6H6  A2NLZ3M0OJV9NX                   Mark Bodzin   \n",
              "...        ...         ...             ...                           ...   \n",
              "568007  568008  B0030VJ8YU  A20P8VC55KPPCT                        FL Mom   \n",
              "568008  568009  B0030VJ8YU   ATIHDHZYNQ0EI  Kristen O'donnell \"twinsmom\"   \n",
              "568017  568018  B0030VJ8YU  A20P8VC55KPPCT                        FL Mom   \n",
              "568034  568035  B0030VJ8YU  A1S6HK2R1KUC5E                      data1701   \n",
              "568053  568054  B0030VJ8YU  A20P8VC55KPPCT                        FL Mom   \n",
              "\n",
              "        HelpfulnessNumerator  HelpfulnessDenominator  Score        Time  \\\n",
              "466                        0                       0      5  1231718400   \n",
              "574                        2                       2      5  1231718400   \n",
              "1084                       3                       3      1  1330992000   \n",
              "1087                       1                       1      1  1330992000   \n",
              "2630                       1                       1      2  1313107200   \n",
              "...                      ...                     ...    ...         ...   \n",
              "568007                     3                       3      5  1274486400   \n",
              "568008                     3                       3      5  1270425600   \n",
              "568017                     2                       2      5  1274486400   \n",
              "568034                     1                       1      5  1318291200   \n",
              "568053                     1                       1      5  1274486400   \n",
              "\n",
              "                                            Summary  \\\n",
              "466     One bite and you'll become a \"chippoisseur\"   \n",
              "574     One bite and you'll become a \"chippoisseur\"   \n",
              "1084                                          awful   \n",
              "1087                                          awful   \n",
              "2630                     Way too weak for my tastes   \n",
              "...                                             ...   \n",
              "568007                     These pouches are great!   \n",
              "568008                           Organic and Tasty!   \n",
              "568017                     These pouches are great!   \n",
              "568034                          Triplets love this!   \n",
              "568053                     These pouches are great!   \n",
              "\n",
              "                                                     Text  Sentiment  \n",
              "466     I'm addicted to salty and tangy flavors, so wh...          1  \n",
              "574     I'm addicted to salty and tangy flavors, so wh...          1  \n",
              "1084    This is not jerky, this is processed, hard lik...          0  \n",
              "1087    This is not jerky, this is processed, hard lik...          0  \n",
              "2630    What can i say, I love iced tea. I drink a lot...          0  \n",
              "...                                                   ...        ...  \n",
              "568007  These pouches are so easy and convenient. They...          1  \n",
              "568008  I have 12 month olds and no time to write a gr...          1  \n",
              "568017  These pouches are so easy and convenient. They...          1  \n",
              "568034  This is very smooth and easy to feed to my tri...          1  \n",
              "568053  These pouches are so easy and convenient.  The...          1  \n",
              "\n",
              "[2230 rows x 11 columns]"
            ]
          },
          "execution_count": 5,
          "metadata": {},
          "output_type": "execute_result"
        }
      ],
      "source": [
        "data[data.duplicated(subset = [ 'ProductId', 'ProfileName', 'Score', 'Time', 'Summary'], keep = False)]"
      ]
    },
    {
      "cell_type": "code",
      "execution_count": 6,
      "metadata": {
        "colab": {
          "base_uri": "https://localhost:8080/",
          "height": 355
        },
        "id": "6kLUkIQh9UrC",
        "outputId": "e368a5d0-3abd-4c85-b926-f1f1906c8081"
      },
      "outputs": [
        {
          "data": {
            "text/html": [
              "<div>\n",
              "<style scoped>\n",
              "    .dataframe tbody tr th:only-of-type {\n",
              "        vertical-align: middle;\n",
              "    }\n",
              "\n",
              "    .dataframe tbody tr th {\n",
              "        vertical-align: top;\n",
              "    }\n",
              "\n",
              "    .dataframe thead th {\n",
              "        text-align: right;\n",
              "    }\n",
              "</style>\n",
              "<table border=\"1\" class=\"dataframe\">\n",
              "  <thead>\n",
              "    <tr style=\"text-align: right;\">\n",
              "      <th></th>\n",
              "      <th>Id</th>\n",
              "      <th>ProductId</th>\n",
              "      <th>UserId</th>\n",
              "      <th>ProfileName</th>\n",
              "      <th>HelpfulnessNumerator</th>\n",
              "      <th>HelpfulnessDenominator</th>\n",
              "      <th>Score</th>\n",
              "      <th>Time</th>\n",
              "      <th>Summary</th>\n",
              "      <th>Text</th>\n",
              "      <th>Sentiment</th>\n",
              "    </tr>\n",
              "  </thead>\n",
              "  <tbody>\n",
              "    <tr>\n",
              "      <th>3306</th>\n",
              "      <td>3307</td>\n",
              "      <td>B005K4Q1VI</td>\n",
              "      <td>A3OXHLG6DIBRW8</td>\n",
              "      <td>C. F. Hill \"CFH\"</td>\n",
              "      <td>24</td>\n",
              "      <td>25</td>\n",
              "      <td>5</td>\n",
              "      <td>1321401600</td>\n",
              "      <td>Really Good Hot Cocoa - Highly Recommended</td>\n",
              "      <td>These Grove Square Hot Cocoa flavors are by fa...</td>\n",
              "      <td>1</td>\n",
              "    </tr>\n",
              "    <tr>\n",
              "      <th>3416</th>\n",
              "      <td>3417</td>\n",
              "      <td>B005K4Q1VI</td>\n",
              "      <td>A3OXHLG6DIBRW8</td>\n",
              "      <td>C. F. Hill \"CFH\"</td>\n",
              "      <td>5</td>\n",
              "      <td>5</td>\n",
              "      <td>5</td>\n",
              "      <td>1321401600</td>\n",
              "      <td>Really Good Hot Cocoa - Highly Recommended</td>\n",
              "      <td>These Grove Square Hot Cocoa flavors are by fa...</td>\n",
              "      <td>1</td>\n",
              "    </tr>\n",
              "  </tbody>\n",
              "</table>\n",
              "</div>"
            ],
            "text/plain": [
              "        Id   ProductId          UserId       ProfileName  \\\n",
              "3306  3307  B005K4Q1VI  A3OXHLG6DIBRW8  C. F. Hill \"CFH\"   \n",
              "3416  3417  B005K4Q1VI  A3OXHLG6DIBRW8  C. F. Hill \"CFH\"   \n",
              "\n",
              "      HelpfulnessNumerator  HelpfulnessDenominator  Score        Time  \\\n",
              "3306                    24                      25      5  1321401600   \n",
              "3416                     5                       5      5  1321401600   \n",
              "\n",
              "                                         Summary  \\\n",
              "3306  Really Good Hot Cocoa - Highly Recommended   \n",
              "3416  Really Good Hot Cocoa - Highly Recommended   \n",
              "\n",
              "                                                   Text  Sentiment  \n",
              "3306  These Grove Square Hot Cocoa flavors are by fa...          1  \n",
              "3416  These Grove Square Hot Cocoa flavors are by fa...          1  "
            ]
          },
          "execution_count": 6,
          "metadata": {},
          "output_type": "execute_result"
        }
      ],
      "source": [
        "data[data.duplicated(subset = [ 'ProductId', 'ProfileName', 'Score', 'Time', 'Summary'], keep = False)].loc[data.ProductId == 'B005K4Q1VI', :]"
      ]
    },
    {
      "cell_type": "markdown",
      "metadata": {
        "id": "7oc4xiOV8drd"
      },
      "source": [
        "[Click Here to look into 1 product description](https://www.amazon.com/dp/B005K4Q1VI)"
      ]
    },
    {
      "cell_type": "markdown",
      "metadata": {
        "id": "0ql3Oooq9haB"
      },
      "source": [
        "## Data Cleaning \n",
        "\n",
        "1. Remove Duplicates"
      ]
    },
    {
      "cell_type": "code",
      "execution_count": 7,
      "metadata": {
        "id": "BMWZ2UIK7ONx"
      },
      "outputs": [],
      "source": [
        "#Sorting data according to ProductId in ascending order\n",
        "sorted_data=data.sort_values('ProductId', axis=0, ascending=True, inplace=False, kind='quicksort', na_position='last')"
      ]
    },
    {
      "cell_type": "code",
      "execution_count": 8,
      "metadata": {
        "colab": {
          "base_uri": "https://localhost:8080/"
        },
        "id": "gZgmeVDi-Fhh",
        "outputId": "0a989c1b-4b70-4ec0-b4e5-e6c689e58979"
      },
      "outputs": [
        {
          "data": {
            "text/plain": [
              "(393933, 11)"
            ]
          },
          "execution_count": 8,
          "metadata": {},
          "output_type": "execute_result"
        }
      ],
      "source": [
        "#Deduplication of entries\n",
        "final=sorted_data.drop_duplicates(subset={\"UserId\",\"ProfileName\",\"Time\",\"Text\"}, keep='first', inplace=False)\n",
        "final.shape"
      ]
    },
    {
      "cell_type": "code",
      "execution_count": 9,
      "metadata": {
        "colab": {
          "base_uri": "https://localhost:8080/"
        },
        "id": "14PWiqmj-Nso",
        "outputId": "e81f087c-82ec-4d2d-8733-23f1a2cd4d5d"
      },
      "outputs": [
        {
          "data": {
            "text/plain": [
              "69.29901100176971"
            ]
          },
          "execution_count": 9,
          "metadata": {},
          "output_type": "execute_result"
        }
      ],
      "source": [
        "#Checking to see how much % of data still remains\n",
        "(final['Id'].size*1.0)/(data['Id'].size*1.0)*100"
      ]
    },
    {
      "cell_type": "markdown",
      "metadata": {
        "id": "yCT-bnIg-XbT"
      },
      "source": [
        "Checking some constraints like helpfullness numerator should be greater than denominator. So checking on them \n",
        "\n"
      ]
    },
    {
      "cell_type": "code",
      "execution_count": 10,
      "metadata": {
        "colab": {
          "base_uri": "https://localhost:8080/",
          "height": 268
        },
        "id": "eH8R_8MG-eei",
        "outputId": "f80bb204-cd3b-4699-9f11-65c718f49059"
      },
      "outputs": [
        {
          "data": {
            "text/html": [
              "<div>\n",
              "<style scoped>\n",
              "    .dataframe tbody tr th:only-of-type {\n",
              "        vertical-align: middle;\n",
              "    }\n",
              "\n",
              "    .dataframe tbody tr th {\n",
              "        vertical-align: top;\n",
              "    }\n",
              "\n",
              "    .dataframe thead th {\n",
              "        text-align: right;\n",
              "    }\n",
              "</style>\n",
              "<table border=\"1\" class=\"dataframe\">\n",
              "  <thead>\n",
              "    <tr style=\"text-align: right;\">\n",
              "      <th></th>\n",
              "      <th>Id</th>\n",
              "      <th>ProductId</th>\n",
              "      <th>UserId</th>\n",
              "      <th>ProfileName</th>\n",
              "      <th>HelpfulnessNumerator</th>\n",
              "      <th>HelpfulnessDenominator</th>\n",
              "      <th>Score</th>\n",
              "      <th>Time</th>\n",
              "      <th>Summary</th>\n",
              "      <th>Text</th>\n",
              "      <th>Sentiment</th>\n",
              "    </tr>\n",
              "  </thead>\n",
              "  <tbody>\n",
              "    <tr>\n",
              "      <th>64421</th>\n",
              "      <td>64422</td>\n",
              "      <td>B000MIDROQ</td>\n",
              "      <td>A161DK06JJMCYF</td>\n",
              "      <td>J. E. Stephens \"Jeanne\"</td>\n",
              "      <td>3</td>\n",
              "      <td>1</td>\n",
              "      <td>5</td>\n",
              "      <td>1224892800</td>\n",
              "      <td>Bought This for My Son at College</td>\n",
              "      <td>My son loves spaghetti so I didn't hesitate or...</td>\n",
              "      <td>1</td>\n",
              "    </tr>\n",
              "    <tr>\n",
              "      <th>44736</th>\n",
              "      <td>44737</td>\n",
              "      <td>B001EQ55RW</td>\n",
              "      <td>A2V0I904FH7ABY</td>\n",
              "      <td>Ram</td>\n",
              "      <td>3</td>\n",
              "      <td>2</td>\n",
              "      <td>4</td>\n",
              "      <td>1212883200</td>\n",
              "      <td>Pure cocoa taste with crunchy almonds inside</td>\n",
              "      <td>It was almost a 'love at first bite' - the per...</td>\n",
              "      <td>1</td>\n",
              "    </tr>\n",
              "  </tbody>\n",
              "</table>\n",
              "</div>"
            ],
            "text/plain": [
              "          Id   ProductId          UserId              ProfileName  \\\n",
              "64421  64422  B000MIDROQ  A161DK06JJMCYF  J. E. Stephens \"Jeanne\"   \n",
              "44736  44737  B001EQ55RW  A2V0I904FH7ABY                      Ram   \n",
              "\n",
              "       HelpfulnessNumerator  HelpfulnessDenominator  Score        Time  \\\n",
              "64421                     3                       1      5  1224892800   \n",
              "44736                     3                       2      4  1212883200   \n",
              "\n",
              "                                            Summary  \\\n",
              "64421             Bought This for My Son at College   \n",
              "44736  Pure cocoa taste with crunchy almonds inside   \n",
              "\n",
              "                                                    Text  Sentiment  \n",
              "64421  My son loves spaghetti so I didn't hesitate or...          1  \n",
              "44736  It was almost a 'love at first bite' - the per...          1  "
            ]
          },
          "execution_count": 10,
          "metadata": {},
          "output_type": "execute_result"
        }
      ],
      "source": [
        "final[final['HelpfulnessNumerator'] > final['HelpfulnessDenominator']]"
      ]
    },
    {
      "cell_type": "markdown",
      "metadata": {
        "id": "x_VawFka-p0x"
      },
      "source": [
        "Need to drop these 2 rows "
      ]
    },
    {
      "cell_type": "code",
      "execution_count": 11,
      "metadata": {
        "colab": {
          "base_uri": "https://localhost:8080/"
        },
        "id": "JAzzlbxo-opQ",
        "outputId": "32c5d95c-e046-43ce-8ad8-9afe186f1db4"
      },
      "outputs": [
        {
          "data": {
            "text/plain": [
              "(393931, 12)"
            ]
          },
          "execution_count": 11,
          "metadata": {},
          "output_type": "execute_result"
        }
      ],
      "source": [
        "final = final[final['HelpfulnessNumerator'] <= final['HelpfulnessDenominator']]\n",
        "final.reset_index(inplace=True)\n",
        "final.shape"
      ]
    },
    {
      "cell_type": "markdown",
      "metadata": {
        "id": "KFd7dSWN-0Op"
      },
      "source": [
        "## Preprocessing"
      ]
    },
    {
      "cell_type": "code",
      "execution_count": 12,
      "metadata": {
        "id": "gieJyzm4_CXZ"
      },
      "outputs": [
        {
          "ename": "ModuleNotFoundError",
          "evalue": "No module named 'gensim'",
          "output_type": "error",
          "traceback": [
            "\u001b[1;31m---------------------------------------------------------------------------\u001b[0m",
            "\u001b[1;31mModuleNotFoundError\u001b[0m                       Traceback (most recent call last)",
            "Cell \u001b[1;32mIn[12], line 9\u001b[0m\n\u001b[0;32m      6\u001b[0m \u001b[39mfrom\u001b[39;00m \u001b[39mnltk\u001b[39;00m\u001b[39m.\u001b[39;00m\u001b[39mstem\u001b[39;00m \u001b[39mimport\u001b[39;00m PorterStemmer\n\u001b[0;32m      7\u001b[0m \u001b[39mfrom\u001b[39;00m \u001b[39mnltk\u001b[39;00m\u001b[39m.\u001b[39;00m\u001b[39mstem\u001b[39;00m\u001b[39m.\u001b[39;00m\u001b[39mwordnet\u001b[39;00m \u001b[39mimport\u001b[39;00m WordNetLemmatizer\n\u001b[1;32m----> 9\u001b[0m \u001b[39mfrom\u001b[39;00m \u001b[39mgensim\u001b[39;00m\u001b[39m.\u001b[39;00m\u001b[39mmodels\u001b[39;00m \u001b[39mimport\u001b[39;00m Word2Vec\n\u001b[0;32m     10\u001b[0m \u001b[39mfrom\u001b[39;00m \u001b[39mgensim\u001b[39;00m\u001b[39m.\u001b[39;00m\u001b[39mmodels\u001b[39;00m \u001b[39mimport\u001b[39;00m KeyedVectors\n\u001b[0;32m     11\u001b[0m \u001b[39mimport\u001b[39;00m \u001b[39mpickle\u001b[39;00m\n",
            "\u001b[1;31mModuleNotFoundError\u001b[0m: No module named 'gensim'"
          ]
        }
      ],
      "source": [
        "import re\n",
        "# Tutorial about Python regular expressions: https://pymotw.com/2/re/\n",
        "\n",
        "import string\n",
        "from nltk.corpus import stopwords\n",
        "from nltk.stem import PorterStemmer\n",
        "from nltk.stem.wordnet import WordNetLemmatizer\n",
        "\n",
        "from gensim.models import Word2Vec\n",
        "from gensim.models import KeyedVectors\n",
        "import pickle\n",
        "\n",
        "from tqdm import tqdm\n",
        "import os\n",
        "\n",
        "\n",
        "# https://stackoverflow.com/questions/16206380/python-beautifulsoup-how-to-remove-all-tags-from-an-element\n",
        "from bs4 import BeautifulSoup\n"
      ]
    },
    {
      "cell_type": "code",
      "execution_count": 59,
      "metadata": {
        "id": "iW4nOVJL_TDS"
      },
      "outputs": [],
      "source": [
        "# https://stackoverflow.com/a/47091490/4084039\n",
        "import re\n",
        "\n",
        "def decontracted(phrase):\n",
        "    # specific\n",
        "    phrase = re.sub(r\"won't\", \"will not\", phrase)\n",
        "    phrase = re.sub(r\"can\\'t\", \"can not\", phrase)\n",
        "\n",
        "    # general\n",
        "    phrase = re.sub(r\"n\\'t\", \" not\", phrase)\n",
        "    phrase = re.sub(r\"\\'re\", \" are\", phrase)\n",
        "    phrase = re.sub(r\"\\'s\", \" is\", phrase)\n",
        "    phrase = re.sub(r\"\\'d\", \" would\", phrase)\n",
        "    phrase = re.sub(r\"\\'ll\", \" will\", phrase)\n",
        "    phrase = re.sub(r\"\\'t\", \" not\", phrase)\n",
        "    phrase = re.sub(r\"\\'ve\", \" have\", phrase)\n",
        "    phrase = re.sub(r\"\\'m\", \" am\", phrase)\n",
        "    return phrase"
      ]
    },
    {
      "cell_type": "code",
      "execution_count": 60,
      "metadata": {
        "id": "mwQsD5q4_W3D"
      },
      "outputs": [],
      "source": [
        "# https://gist.github.com/sebleier/554280\n",
        "# we are removing the words from the stop words list: 'no', 'nor', 'not'\n",
        "# <br /><br /> ==> after the above steps, we are getting \"br br\"\n",
        "# we are including them into stop words list\n",
        "# instead of <br /> if we have <br/> these tags would have revmoved in the 1st step\n",
        "\n",
        "stopwords= set(['br', 'the', 'i', 'me', 'my', 'myself', 'we', 'our', 'ours', 'ourselves', 'you', \"you're\", \"you've\",\\\n",
        "            \"you'll\", \"you'd\", 'your', 'yours', 'yourself', 'yourselves', 'he', 'him', 'his', 'himself', \\\n",
        "            'she', \"she's\", 'her', 'hers', 'herself', 'it', \"it's\", 'its', 'itself', 'they', 'them', 'their',\\\n",
        "            'theirs', 'themselves', 'what', 'which', 'who', 'whom', 'this', 'that', \"that'll\", 'these', 'those', \\\n",
        "            'am', 'is', 'are', 'was', 'were', 'be', 'been', 'being', 'have', 'has', 'had', 'having', 'do', 'does', \\\n",
        "            'did', 'doing', 'a', 'an', 'the', 'and', 'but', 'if', 'or', 'because', 'as', 'until', 'while', 'of', \\\n",
        "            'at', 'by', 'for', 'with', 'about', 'against', 'between', 'into', 'through', 'during', 'before', 'after',\\\n",
        "            'above', 'below', 'to', 'from', 'up', 'down', 'in', 'out', 'on', 'off', 'over', 'under', 'again', 'further',\\\n",
        "            'then', 'once', 'here', 'there', 'when', 'where', 'why', 'how', 'all', 'any', 'both', 'each', 'few', 'more',\\\n",
        "            'most', 'other', 'some', 'such', 'only', 'own', 'same', 'so', 'than', 'too', 'very', \\\n",
        "            's', 't', 'can', 'will', 'just', 'don', \"don't\", 'should', \"should've\", 'now', 'd', 'll', 'm', 'o', 're', \\\n",
        "            've', 'y', 'ain', 'aren', \"aren't\", 'couldn', \"couldn't\", 'didn', \"didn't\", 'doesn', \"doesn't\", 'hadn',\\\n",
        "            \"hadn't\", 'hasn', \"hasn't\", 'haven', \"haven't\", 'isn', \"isn't\", 'ma', 'mightn', \"mightn't\", 'mustn',\\\n",
        "            \"mustn't\", 'needn', \"needn't\", 'shan', \"shan't\", 'shouldn', \"shouldn't\", 'wasn', \"wasn't\", 'weren', \"weren't\", \\\n",
        "            'won', \"won't\", 'wouldn', \"wouldn't\"])"
      ]
    },
    {
      "cell_type": "code",
      "execution_count": 61,
      "metadata": {
        "colab": {
          "base_uri": "https://localhost:8080/"
        },
        "id": "hQXQQSsE-xoJ",
        "outputId": "a4655cbb-4286-4ac5-931e-dbafaeba7edc"
      },
      "outputs": [
        {
          "name": "stderr",
          "output_type": "stream",
          "text": [
            "100%|██████████| 393931/393931 [02:56<00:00, 2235.33it/s]\n"
          ]
        }
      ],
      "source": [
        "# Combining all the above steps \n",
        "from tqdm import tqdm\n",
        "preprocessed_reviews = []\n",
        "# tqdm is for printing the status bar\n",
        "for sentance in tqdm(final['Text'].values):\n",
        "    sentance = re.sub(r\"http\\S+\", \"\", sentance)\n",
        "    sentance = BeautifulSoup(sentance, 'lxml').get_text()\n",
        "    sentance = decontracted(sentance)\n",
        "    sentance = re.sub(\"\\S*\\d\\S*\", \"\", sentance).strip()\n",
        "    sentance = re.sub('[^A-Za-z]+', ' ', sentance)\n",
        "    # https://gist.github.com/sebleier/554280\n",
        "    sentance = ' '.join(e.lower() for e in sentance.split() if e.lower() not in stopwords)\n",
        "    preprocessed_reviews.append(sentance.strip())"
      ]
    },
    {
      "cell_type": "code",
      "execution_count": 62,
      "metadata": {
        "colab": {
          "base_uri": "https://localhost:8080/",
          "height": 36
        },
        "id": "j7vNmEpyADdw",
        "outputId": "21725632-752e-463f-97e6-bf20305f5e82"
      },
      "outputs": [
        {
          "data": {
            "application/vnd.google.colaboratory.intrinsic+json": {
              "type": "string"
            },
            "text/plain": [
              "'fun way children learn months year learn poems throughout school year like handmotions invent poem'"
            ]
          },
          "execution_count": 62,
          "metadata": {
            "tags": []
          },
          "output_type": "execute_result"
        }
      ],
      "source": [
        "preprocessed_reviews[1]"
      ]
    },
    {
      "cell_type": "code",
      "execution_count": 63,
      "metadata": {
        "colab": {
          "base_uri": "https://localhost:8080/",
          "height": 36
        },
        "id": "uRVE8M-DAFZo",
        "outputId": "33a390db-3095-4b61-87d8-052497ae925c"
      },
      "outputs": [
        {
          "data": {
            "application/vnd.google.colaboratory.intrinsic+json": {
              "type": "string"
            },
            "text/plain": [
              "'catnip cute usable size larger expected catnip came clear plastic bag tied opening inside good amount cats went crazy'"
            ]
          },
          "execution_count": 63,
          "metadata": {
            "tags": []
          },
          "output_type": "execute_result"
        }
      ],
      "source": [
        "preprocessed_reviews[15000]"
      ]
    },
    {
      "cell_type": "code",
      "execution_count": 64,
      "metadata": {
        "colab": {
          "base_uri": "https://localhost:8080/"
        },
        "id": "x4RXeCs-CcUk",
        "outputId": "af7a7366-ff9a-4b5f-c5aa-994a6a2866f3"
      },
      "outputs": [
        {
          "data": {
            "text/plain": [
              "393931"
            ]
          },
          "execution_count": 64,
          "metadata": {
            "tags": []
          },
          "output_type": "execute_result"
        }
      ],
      "source": [
        "len(preprocessed_reviews)"
      ]
    },
    {
      "cell_type": "markdown",
      "metadata": {
        "id": "co540-puALOj"
      },
      "source": [
        "## Featurization\n",
        "Convert the review to vectors"
      ]
    },
    {
      "cell_type": "code",
      "execution_count": 65,
      "metadata": {
        "colab": {
          "base_uri": "https://localhost:8080/",
          "height": 556
        },
        "id": "Ob3nmPvlAvYC",
        "outputId": "7b54a593-00ce-4db4-89c6-1745e8c03f81"
      },
      "outputs": [
        {
          "data": {
            "text/html": [
              "<div>\n",
              "<style scoped>\n",
              "    .dataframe tbody tr th:only-of-type {\n",
              "        vertical-align: middle;\n",
              "    }\n",
              "\n",
              "    .dataframe tbody tr th {\n",
              "        vertical-align: top;\n",
              "    }\n",
              "\n",
              "    .dataframe thead th {\n",
              "        text-align: right;\n",
              "    }\n",
              "</style>\n",
              "<table border=\"1\" class=\"dataframe\">\n",
              "  <thead>\n",
              "    <tr style=\"text-align: right;\">\n",
              "      <th></th>\n",
              "      <th>index</th>\n",
              "      <th>Id</th>\n",
              "      <th>ProductId</th>\n",
              "      <th>UserId</th>\n",
              "      <th>ProfileName</th>\n",
              "      <th>HelpfulnessNumerator</th>\n",
              "      <th>HelpfulnessDenominator</th>\n",
              "      <th>Score</th>\n",
              "      <th>Time</th>\n",
              "      <th>Summary</th>\n",
              "      <th>Text</th>\n",
              "      <th>Sentiment</th>\n",
              "    </tr>\n",
              "  </thead>\n",
              "  <tbody>\n",
              "    <tr>\n",
              "      <th>197000</th>\n",
              "      <td>94274</td>\n",
              "      <td>94275</td>\n",
              "      <td>B001EPQ18K</td>\n",
              "      <td>A3LWGDI3CYQML0</td>\n",
              "      <td>Amazon Shopper2</td>\n",
              "      <td>0</td>\n",
              "      <td>0</td>\n",
              "      <td>4</td>\n",
              "      <td>1323993600</td>\n",
              "      <td>Excellent cookies</td>\n",
              "      <td>The lemon is not overpowering, though I wish i...</td>\n",
              "      <td>1</td>\n",
              "    </tr>\n",
              "    <tr>\n",
              "      <th>142469</th>\n",
              "      <td>106128</td>\n",
              "      <td>106129</td>\n",
              "      <td>B000YHNQSC</td>\n",
              "      <td>ADCQFR0DZQC7A</td>\n",
              "      <td>flygirl</td>\n",
              "      <td>0</td>\n",
              "      <td>0</td>\n",
              "      <td>5</td>\n",
              "      <td>1292803200</td>\n",
              "      <td>jackie</td>\n",
              "      <td>just received this item so glad I ordered it b...</td>\n",
              "      <td>1</td>\n",
              "    </tr>\n",
              "    <tr>\n",
              "      <th>34702</th>\n",
              "      <td>420893</td>\n",
              "      <td>420894</td>\n",
              "      <td>B000B9EB4Q</td>\n",
              "      <td>AOY13ZY2UCBT0</td>\n",
              "      <td>Kevin</td>\n",
              "      <td>1</td>\n",
              "      <td>1</td>\n",
              "      <td>1</td>\n",
              "      <td>1273104000</td>\n",
              "      <td>Weak, poor quality</td>\n",
              "      <td>This is a very, very mild ginger tea.  I take ...</td>\n",
              "      <td>0</td>\n",
              "    </tr>\n",
              "    <tr>\n",
              "      <th>79593</th>\n",
              "      <td>173810</td>\n",
              "      <td>173811</td>\n",
              "      <td>B000GAO91K</td>\n",
              "      <td>A2EDE0QF9MSCTW</td>\n",
              "      <td>VVL84</td>\n",
              "      <td>1</td>\n",
              "      <td>1</td>\n",
              "      <td>5</td>\n",
              "      <td>1350432000</td>\n",
              "      <td>DOES A BODY GOOD</td>\n",
              "      <td>I AM CURRENTLY TRYING TO LOOSE SOME WEIGHT SO ...</td>\n",
              "      <td>1</td>\n",
              "    </tr>\n",
              "    <tr>\n",
              "      <th>141048</th>\n",
              "      <td>100663</td>\n",
              "      <td>100664</td>\n",
              "      <td>B000XKCDVG</td>\n",
              "      <td>ADUNITSKC9LS5</td>\n",
              "      <td>putty butt \"Keri Starkel\"</td>\n",
              "      <td>0</td>\n",
              "      <td>0</td>\n",
              "      <td>5</td>\n",
              "      <td>1318291200</td>\n",
              "      <td>Great dog food!!!!!</td>\n",
              "      <td>I was told from a friend of mine, how great bl...</td>\n",
              "      <td>1</td>\n",
              "    </tr>\n",
              "  </tbody>\n",
              "</table>\n",
              "</div>"
            ],
            "text/plain": [
              "         index  ...  Sentiment\n",
              "197000   94274  ...          1\n",
              "142469  106128  ...          1\n",
              "34702   420893  ...          0\n",
              "79593   173810  ...          1\n",
              "141048  100663  ...          1\n",
              "\n",
              "[5 rows x 12 columns]"
            ]
          },
          "execution_count": 65,
          "metadata": {
            "tags": []
          },
          "output_type": "execute_result"
        }
      ],
      "source": [
        "sample_data = final.sample(n = 5000)\n",
        "sample_data.head()"
      ]
    },
    {
      "cell_type": "code",
      "execution_count": 66,
      "metadata": {
        "id": "3Q1Hzbb1A75D"
      },
      "outputs": [],
      "source": [
        "sample_data.drop(columns = ['Id', 'ProductId', 'UserId','ProfileName', 'Time', 'Summary', 'Score'], inplace=True)"
      ]
    },
    {
      "cell_type": "code",
      "execution_count": 67,
      "metadata": {
        "colab": {
          "base_uri": "https://localhost:8080/",
          "height": 112
        },
        "id": "1ULsLt7GBPfZ",
        "outputId": "eb5d3455-1dd6-4608-fb6b-9ac9bb3edefb"
      },
      "outputs": [
        {
          "data": {
            "text/html": [
              "<div>\n",
              "<style scoped>\n",
              "    .dataframe tbody tr th:only-of-type {\n",
              "        vertical-align: middle;\n",
              "    }\n",
              "\n",
              "    .dataframe tbody tr th {\n",
              "        vertical-align: top;\n",
              "    }\n",
              "\n",
              "    .dataframe thead th {\n",
              "        text-align: right;\n",
              "    }\n",
              "</style>\n",
              "<table border=\"1\" class=\"dataframe\">\n",
              "  <thead>\n",
              "    <tr style=\"text-align: right;\">\n",
              "      <th></th>\n",
              "      <th>index</th>\n",
              "      <th>HelpfulnessNumerator</th>\n",
              "      <th>HelpfulnessDenominator</th>\n",
              "      <th>Text</th>\n",
              "      <th>Sentiment</th>\n",
              "    </tr>\n",
              "  </thead>\n",
              "  <tbody>\n",
              "    <tr>\n",
              "      <th>197000</th>\n",
              "      <td>94274</td>\n",
              "      <td>0</td>\n",
              "      <td>0</td>\n",
              "      <td>The lemon is not overpowering, though I wish i...</td>\n",
              "      <td>1</td>\n",
              "    </tr>\n",
              "    <tr>\n",
              "      <th>142469</th>\n",
              "      <td>106128</td>\n",
              "      <td>0</td>\n",
              "      <td>0</td>\n",
              "      <td>just received this item so glad I ordered it b...</td>\n",
              "      <td>1</td>\n",
              "    </tr>\n",
              "  </tbody>\n",
              "</table>\n",
              "</div>"
            ],
            "text/plain": [
              "         index  ...  Sentiment\n",
              "197000   94274  ...          1\n",
              "142469  106128  ...          1\n",
              "\n",
              "[2 rows x 5 columns]"
            ]
          },
          "execution_count": 67,
          "metadata": {
            "tags": []
          },
          "output_type": "execute_result"
        }
      ],
      "source": [
        "sample_data.head(2)"
      ]
    },
    {
      "cell_type": "code",
      "execution_count": 68,
      "metadata": {
        "colab": {
          "base_uri": "https://localhost:8080/"
        },
        "id": "SOVMiYLTBvi8",
        "outputId": "ec81acb3-3b0c-4916-b991-37600ec674ff"
      },
      "outputs": [
        {
          "data": {
            "text/plain": [
              "array([197000, 142469,  34702, ..., 125648,  61047, 208724])"
            ]
          },
          "execution_count": 68,
          "metadata": {
            "tags": []
          },
          "output_type": "execute_result"
        }
      ],
      "source": [
        "sample_data.index.values"
      ]
    },
    {
      "cell_type": "code",
      "execution_count": 70,
      "metadata": {
        "colab": {
          "base_uri": "https://localhost:8080/",
          "height": 36
        },
        "id": "j8w6-45kBU67",
        "outputId": "7cf0d093-c7e5-46a0-dcc6-ab51364cc279"
      },
      "outputs": [
        {
          "data": {
            "application/vnd.google.colaboratory.intrinsic+json": {
              "type": "string"
            },
            "text/plain": [
              "'lemon not overpowering though wish bit tartness would known missing something good would purchased sooner good thing bought boxes'"
            ]
          },
          "execution_count": 70,
          "metadata": {
            "tags": []
          },
          "output_type": "execute_result"
        }
      ],
      "source": [
        "sample_reviews = [ preprocessed_reviews[i] for i in sample_data.index.values]\n",
        "sample_reviews[0]"
      ]
    },
    {
      "cell_type": "code",
      "execution_count": 85,
      "metadata": {
        "colab": {
          "base_uri": "https://localhost:8080/",
          "height": 293
        },
        "id": "zsRop1OdSxvq",
        "outputId": "a670daac-194d-4579-cf68-5893c7406c28"
      },
      "outputs": [
        {
          "data": {
            "text/html": [
              "<div>\n",
              "<style scoped>\n",
              "    .dataframe tbody tr th:only-of-type {\n",
              "        vertical-align: middle;\n",
              "    }\n",
              "\n",
              "    .dataframe tbody tr th {\n",
              "        vertical-align: top;\n",
              "    }\n",
              "\n",
              "    .dataframe thead th {\n",
              "        text-align: right;\n",
              "    }\n",
              "</style>\n",
              "<table border=\"1\" class=\"dataframe\">\n",
              "  <thead>\n",
              "    <tr style=\"text-align: right;\">\n",
              "      <th></th>\n",
              "      <th>index</th>\n",
              "      <th>HelpfulnessNumerator</th>\n",
              "      <th>HelpfulnessDenominator</th>\n",
              "      <th>Text</th>\n",
              "      <th>Sentiment</th>\n",
              "      <th>preprocessed</th>\n",
              "    </tr>\n",
              "  </thead>\n",
              "  <tbody>\n",
              "    <tr>\n",
              "      <th>197000</th>\n",
              "      <td>94274</td>\n",
              "      <td>0</td>\n",
              "      <td>0</td>\n",
              "      <td>The lemon is not overpowering, though I wish i...</td>\n",
              "      <td>1</td>\n",
              "      <td>lemon not overpowering though wish bit tartnes...</td>\n",
              "    </tr>\n",
              "    <tr>\n",
              "      <th>142469</th>\n",
              "      <td>106128</td>\n",
              "      <td>0</td>\n",
              "      <td>0</td>\n",
              "      <td>just received this item so glad I ordered it b...</td>\n",
              "      <td>1</td>\n",
              "      <td>received item glad ordered skeptical spend kin...</td>\n",
              "    </tr>\n",
              "    <tr>\n",
              "      <th>34702</th>\n",
              "      <td>420893</td>\n",
              "      <td>1</td>\n",
              "      <td>1</td>\n",
              "      <td>This is a very, very mild ginger tea.  I take ...</td>\n",
              "      <td>0</td>\n",
              "      <td>mild ginger tea take least bags water even tas...</td>\n",
              "    </tr>\n",
              "    <tr>\n",
              "      <th>79593</th>\n",
              "      <td>173810</td>\n",
              "      <td>1</td>\n",
              "      <td>1</td>\n",
              "      <td>I AM CURRENTLY TRYING TO LOOSE SOME WEIGHT SO ...</td>\n",
              "      <td>1</td>\n",
              "      <td>currently trying loose weight looking substitu...</td>\n",
              "    </tr>\n",
              "    <tr>\n",
              "      <th>141048</th>\n",
              "      <td>100663</td>\n",
              "      <td>0</td>\n",
              "      <td>0</td>\n",
              "      <td>I was told from a friend of mine, how great bl...</td>\n",
              "      <td>1</td>\n",
              "      <td>told friend mine great blue buffalo dog food k...</td>\n",
              "    </tr>\n",
              "  </tbody>\n",
              "</table>\n",
              "</div>"
            ],
            "text/plain": [
              "         index  ...                                       preprocessed\n",
              "197000   94274  ...  lemon not overpowering though wish bit tartnes...\n",
              "142469  106128  ...  received item glad ordered skeptical spend kin...\n",
              "34702   420893  ...  mild ginger tea take least bags water even tas...\n",
              "79593   173810  ...  currently trying loose weight looking substitu...\n",
              "141048  100663  ...  told friend mine great blue buffalo dog food k...\n",
              "\n",
              "[5 rows x 6 columns]"
            ]
          },
          "execution_count": 85,
          "metadata": {
            "tags": []
          },
          "output_type": "execute_result"
        }
      ],
      "source": [
        "sample_data['preprocessed'] = sample_reviews\n",
        "sample_data.head()"
      ]
    },
    {
      "cell_type": "code",
      "execution_count": 87,
      "metadata": {
        "id": "BiBlWEp4S40r"
      },
      "outputs": [],
      "source": [
        "sample_data.drop(columns = ['Text', 'index'], inplace=True)"
      ]
    },
    {
      "cell_type": "code",
      "execution_count": 88,
      "metadata": {
        "colab": {
          "base_uri": "https://localhost:8080/",
          "height": 143
        },
        "id": "BWwWaIksTDDQ",
        "outputId": "5377a3b1-db7c-4678-dbda-83a1891eaf47"
      },
      "outputs": [
        {
          "data": {
            "text/html": [
              "<div>\n",
              "<style scoped>\n",
              "    .dataframe tbody tr th:only-of-type {\n",
              "        vertical-align: middle;\n",
              "    }\n",
              "\n",
              "    .dataframe tbody tr th {\n",
              "        vertical-align: top;\n",
              "    }\n",
              "\n",
              "    .dataframe thead th {\n",
              "        text-align: right;\n",
              "    }\n",
              "</style>\n",
              "<table border=\"1\" class=\"dataframe\">\n",
              "  <thead>\n",
              "    <tr style=\"text-align: right;\">\n",
              "      <th></th>\n",
              "      <th>HelpfulnessNumerator</th>\n",
              "      <th>HelpfulnessDenominator</th>\n",
              "      <th>Sentiment</th>\n",
              "      <th>preprocessed</th>\n",
              "    </tr>\n",
              "  </thead>\n",
              "  <tbody>\n",
              "    <tr>\n",
              "      <th>197000</th>\n",
              "      <td>0</td>\n",
              "      <td>0</td>\n",
              "      <td>1</td>\n",
              "      <td>lemon not overpowering though wish bit tartnes...</td>\n",
              "    </tr>\n",
              "    <tr>\n",
              "      <th>142469</th>\n",
              "      <td>0</td>\n",
              "      <td>0</td>\n",
              "      <td>1</td>\n",
              "      <td>received item glad ordered skeptical spend kin...</td>\n",
              "    </tr>\n",
              "    <tr>\n",
              "      <th>34702</th>\n",
              "      <td>1</td>\n",
              "      <td>1</td>\n",
              "      <td>0</td>\n",
              "      <td>mild ginger tea take least bags water even tas...</td>\n",
              "    </tr>\n",
              "  </tbody>\n",
              "</table>\n",
              "</div>"
            ],
            "text/plain": [
              "        HelpfulnessNumerator  ...                                       preprocessed\n",
              "197000                     0  ...  lemon not overpowering though wish bit tartnes...\n",
              "142469                     0  ...  received item glad ordered skeptical spend kin...\n",
              "34702                      1  ...  mild ginger tea take least bags water even tas...\n",
              "\n",
              "[3 rows x 4 columns]"
            ]
          },
          "execution_count": 88,
          "metadata": {
            "tags": []
          },
          "output_type": "execute_result"
        }
      ],
      "source": [
        "sample_data.head(3)"
      ]
    },
    {
      "cell_type": "code",
      "execution_count": 84,
      "metadata": {
        "id": "emdnlb04Sr5U"
      },
      "outputs": [],
      "source": [
        "from sklearn.model_selection import train_test_split"
      ]
    },
    {
      "cell_type": "code",
      "execution_count": 89,
      "metadata": {
        "colab": {
          "base_uri": "https://localhost:8080/"
        },
        "id": "8QeLU_35TGuj",
        "outputId": "d754f437-ea8e-4dc5-df0b-677eba5f9078"
      },
      "outputs": [
        {
          "name": "stdout",
          "output_type": "stream",
          "text": [
            "(5000, 3)\n",
            "(5000,)\n"
          ]
        }
      ],
      "source": [
        "y = sample_data['Sentiment'].values \n",
        "X = sample_data.drop(columns =['Sentiment'])\n",
        "\n",
        "print(X.shape)\n",
        "print(y.shape)"
      ]
    },
    {
      "cell_type": "code",
      "execution_count": 105,
      "metadata": {
        "colab": {
          "base_uri": "https://localhost:8080/"
        },
        "id": "dOxKuBqIVcpE",
        "outputId": "78aa0cc5-1f0c-422d-b8d7-c9668dc1ecb4"
      },
      "outputs": [
        {
          "data": {
            "text/plain": [
              "1    4292\n",
              "0     708\n",
              "Name: Sentiment, dtype: int64"
            ]
          },
          "execution_count": 105,
          "metadata": {
            "tags": []
          },
          "output_type": "execute_result"
        }
      ],
      "source": [
        "sample_data['Sentiment'].value_counts()"
      ]
    },
    {
      "cell_type": "code",
      "execution_count": 90,
      "metadata": {
        "colab": {
          "base_uri": "https://localhost:8080/"
        },
        "id": "SRy-MW-MTZuo",
        "outputId": "eddb595a-0c22-4c4d-b1f9-a372b8f04d48"
      },
      "outputs": [
        {
          "name": "stdout",
          "output_type": "stream",
          "text": [
            "(4000, 3)\n",
            "(4000,)\n",
            "(1000, 3)\n",
            "(1000,)\n"
          ]
        }
      ],
      "source": [
        "train_X, test_X, train_y, test_y = train_test_split(X, y, test_size = 0.2, random_state = 24)\n",
        "\n",
        "print(train_X.shape)\n",
        "print(train_y.shape)\n",
        "print(test_X.shape)\n",
        "print(test_y.shape)"
      ]
    },
    {
      "cell_type": "markdown",
      "metadata": {
        "id": "xtVYj5UzAQbD"
      },
      "source": [
        "### BOW"
      ]
    },
    {
      "cell_type": "code",
      "execution_count": null,
      "metadata": {
        "id": "CejCMTvgA3db"
      },
      "outputs": [],
      "source": []
    },
    {
      "cell_type": "code",
      "execution_count": 91,
      "metadata": {
        "colab": {
          "base_uri": "https://localhost:8080/"
        },
        "id": "gCWUh6scAH-x",
        "outputId": "023b3250-d647-4c23-f3a1-89e4fd65ebca"
      },
      "outputs": [
        {
          "name": "stdout",
          "output_type": "stream",
          "text": [
            "some feature names  ['aaa', 'ab', 'abandoned', 'abc', 'abcs', 'abd', 'ability', 'able', 'abnormalities', 'abomination']\n",
            "==================================================\n"
          ]
        }
      ],
      "source": [
        "from sklearn.feature_extraction.text import CountVectorizer\n",
        "\n",
        "count_vect = CountVectorizer()\n",
        "count_vect.fit(train_X['preprocessed'])\n",
        "\n",
        "print(\"some feature names \", count_vect.get_feature_names()[:10])\n",
        "print('='*50)"
      ]
    },
    {
      "cell_type": "code",
      "execution_count": 92,
      "metadata": {
        "id": "5iPvcnFcDqID"
      },
      "outputs": [],
      "source": [
        "final_vectors = count_vect.transform(train_X['preprocessed'])"
      ]
    },
    {
      "cell_type": "code",
      "execution_count": 93,
      "metadata": {
        "colab": {
          "base_uri": "https://localhost:8080/"
        },
        "id": "g_WsDHP0Q5E5",
        "outputId": "b1e9e1e1-41e9-4b34-f4ce-04537574dd8d"
      },
      "outputs": [
        {
          "data": {
            "text/plain": [
              "(4000, 13210)"
            ]
          },
          "execution_count": 93,
          "metadata": {
            "tags": []
          },
          "output_type": "execute_result"
        }
      ],
      "source": [
        "final_vectors.shape"
      ]
    },
    {
      "cell_type": "code",
      "execution_count": 95,
      "metadata": {
        "colab": {
          "base_uri": "https://localhost:8080/"
        },
        "id": "Z0Rf9neyDv7a",
        "outputId": "d31c03ff-fd8c-4507-f028-043a3e9816a3"
      },
      "outputs": [
        {
          "data": {
            "text/plain": [
              "(4000, 13212)"
            ]
          },
          "execution_count": 95,
          "metadata": {
            "tags": []
          },
          "output_type": "execute_result"
        }
      ],
      "source": [
        "num_feats = train_X[['HelpfulnessNumerator' ,\t'HelpfulnessDenominator']].values\n",
        "\n",
        "from scipy import sparse\n",
        "\n",
        "training_data = sparse.hstack(( num_feats, final_vectors))\n",
        "\n",
        "training_data.shape"
      ]
    },
    {
      "cell_type": "code",
      "execution_count": 96,
      "metadata": {
        "id": "3jHFKkxUT-eg"
      },
      "outputs": [],
      "source": [
        "from sklearn.linear_model import LogisticRegression"
      ]
    },
    {
      "cell_type": "code",
      "execution_count": 100,
      "metadata": {
        "colab": {
          "base_uri": "https://localhost:8080/"
        },
        "id": "j2zowrKPEiDs",
        "outputId": "9dbcd162-6459-4abf-d0a9-ae22afe6af20"
      },
      "outputs": [
        {
          "data": {
            "text/plain": [
              "LogisticRegression(C=1.0, class_weight=None, dual=False, fit_intercept=True,\n",
              "                   intercept_scaling=1, l1_ratio=None, max_iter=15000,\n",
              "                   multi_class='auto', n_jobs=None, penalty='l2',\n",
              "                   random_state=None, solver='lbfgs', tol=0.0001, verbose=0,\n",
              "                   warm_start=False)"
            ]
          },
          "execution_count": 100,
          "metadata": {
            "tags": []
          },
          "output_type": "execute_result"
        }
      ],
      "source": [
        "model = LogisticRegression(max_iter = 15000)\n",
        "\n",
        "model.fit(training_data, train_y)\n"
      ]
    },
    {
      "cell_type": "code",
      "execution_count": 101,
      "metadata": {
        "colab": {
          "base_uri": "https://localhost:8080/"
        },
        "id": "E1UHS0seUc5L",
        "outputId": "48b70285-cb6a-494a-b3e7-eabe0ae80292"
      },
      "outputs": [
        {
          "data": {
            "text/plain": [
              "(1000, 13210)"
            ]
          },
          "execution_count": 101,
          "metadata": {
            "tags": []
          },
          "output_type": "execute_result"
        }
      ],
      "source": [
        "# predict on test datasets \n",
        "\n",
        "final_test_vectors = count_vect.transform(test_X['preprocessed'].values)\n",
        "final_test_vectors.shape"
      ]
    },
    {
      "cell_type": "code",
      "execution_count": 102,
      "metadata": {
        "colab": {
          "base_uri": "https://localhost:8080/"
        },
        "id": "c9ocOP7AUz0X",
        "outputId": "c4756c38-d0cd-42f4-bc5b-8051ecf23d74"
      },
      "outputs": [
        {
          "data": {
            "text/plain": [
              "(1000, 13212)"
            ]
          },
          "execution_count": 102,
          "metadata": {
            "tags": []
          },
          "output_type": "execute_result"
        }
      ],
      "source": [
        "test_feats = test_X[['HelpfulnessNumerator' ,\t'HelpfulnessDenominator']].values\n",
        "\n",
        "test_data = sparse.hstack(( test_feats, final_test_vectors))\n",
        "\n",
        "test_data.shape"
      ]
    },
    {
      "cell_type": "code",
      "execution_count": 103,
      "metadata": {
        "colab": {
          "base_uri": "https://localhost:8080/"
        },
        "id": "7oSOgCENU9pI",
        "outputId": "4f041f03-fc82-4f50-cfdd-0aa436ff8f9a"
      },
      "outputs": [
        {
          "data": {
            "text/plain": [
              "0.889"
            ]
          },
          "execution_count": 103,
          "metadata": {
            "tags": []
          },
          "output_type": "execute_result"
        }
      ],
      "source": [
        "from sklearn.metrics import accuracy_score\n",
        "\n",
        "preds = model.predict(test_data)\n",
        "\n",
        "# get the actual values \n",
        "y_true = test_y\n",
        "\n",
        "accuracy_score(y_true, preds)"
      ]
    },
    {
      "cell_type": "markdown",
      "metadata": {
        "id": "hwMYaA4XFXkh"
      },
      "source": []
    }
  ],
  "metadata": {
    "colab": {
      "authorship_tag": "ABX9TyMHV6S1zlpqci9eJgC4GWj9",
      "include_colab_link": true,
      "name": "Amazon Fine Food Reviews .ipynb",
      "provenance": []
    },
    "kernelspec": {
      "display_name": "Python 3",
      "name": "python3"
    },
    "language_info": {
      "codemirror_mode": {
        "name": "ipython",
        "version": 3
      },
      "file_extension": ".py",
      "mimetype": "text/x-python",
      "name": "python",
      "nbconvert_exporter": "python",
      "pygments_lexer": "ipython3",
      "version": "3.11.3"
    }
  },
  "nbformat": 4,
  "nbformat_minor": 0
}
